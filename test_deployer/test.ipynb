{
 "cells": [
  {
   "cell_type": "markdown",
   "metadata": {},
   "source": [
    "# Objetivos del test\n",
    "\n",
    "En este test, crearás un script que sea capaz de leer los datos que se encuentran en varios ficheros json (en el directorio **datos**), aplicarles una transformación, y generar un fichero json de salida idéntico al fichero [resultado/result.json](./resultado/result.json).\n",
    "\n",
    "El json generado debe contener una copia del objeto `subscriptions` del fichero de entrada [datos/manifest.json](./datos/manifest.json), pero con algunas modificaciones:\n",
    "\n",
    "- Se añadirá a cada `subscription` un atributo `description` calculado a partir de varias propiedades de la subscripción y la vertical.\n",
    "- Se reemplazará el valor de los atributos `notification.http.url` y `notification.httpCustom.url` por URLs configuradas en el fichero [datos/entorno/environment.json](./datos/entorno/environment.json)\n",
    "- Se reemplazará cualquier ocurrencia del patrón `${variable}` en campos de tipo texto, por el valor de dicha variable en el fichero [datos/deployment.json](./datos/deployment.json)\n",
    "\n",
    "El schema de los tres ficheros de entrada está descrito formalmente en los ficheros del directorio **schema**:\n",
    "\n",
    "- [schema/manifest.cue](./schema/manifest.cue): descriptor del formato del fichero [datos/vertical.json](./datos/vertical.json)\n",
    "- [schema/deployment.cue](./schema/deployment.cue): descriptor del formato del fichero [datos/deployment.json](./datos/deployment.json)\n",
    "- [schema/environment.cue](./schema/environment.cue): descriptor del formato del fichero [datos/entorno/environment.json](./datos/entorno/environment.json)"
   ]
  },
  {
   "cell_type": "markdown",
   "metadata": {},
   "source": [
    "## Pruebas Python\n",
    "\n",
    "### Prueba 1\n",
    "\n",
    "Edita el código de la celda de abajo para implementar la función `read_deployment`. Esta función debe leer el fichero cuyo nombre se le pase como parámetro, e interpretar su contenido como un objeto json."
   ]
  },
  {
   "cell_type": "code",
   "execution_count": 65,
   "metadata": {},
   "outputs": [
    {
     "data": {
      "text/plain": [
       "{'deployment': {'subservice': '/alumbrado',\n",
       "  'variables': {'servicepath_commands': '/lightningcommands',\n",
       "   'lastdata_duration': '20 days'},\n",
       "  'sources': {'manifests': {'files': ['manifest.json']},\n",
       "   'environment': {'path': 'entorno', 'files': ['environment.json']}}}}"
      ]
     },
     "execution_count": 65,
     "metadata": {},
     "output_type": "execute_result"
    }
   ],
   "source": [
    "import json\n",
    "\n",
    "from typing import Any\n",
    "\n",
    "def read_deployment(path: str) -> Any:\n",
    "    pass\n",
    "\n",
    "read_deployment(\"datos/deployment.json\")"
   ]
  },
  {
   "cell_type": "markdown",
   "metadata": {},
   "source": [
    "### Prueba 2\n",
    "\n",
    "Edita el código de la celda de abajo para implementar la función `collect_sources`. Esta función debe recibir la ruta al fichero \"deployment.json\", y ejecutar las siguientes tareas:\n",
    "\n",
    "- Leer el fichero `deployment.json` usando la función anterior `read_deployment`.\n",
    "- Leer todos los ficheros referenciados por el elemento `sources` del `deployment`, interpretando sus contenidos como objetos json.\n",
    "- Unificar todos los objetos json leídos en un único `dict`, usando `dict.update`\n",
    "- Devolver el `dict` unificado"
   ]
  },
  {
   "cell_type": "code",
   "execution_count": 66,
   "metadata": {},
   "outputs": [
    {
     "data": {
      "text/plain": [
       "{'deployment': {'subservice': '/alumbrado',\n",
       "  'variables': {'servicepath_commands': '/lightningcommands',\n",
       "   'lastdata_duration': '20 days'},\n",
       "  'sources': {'manifests': {'files': ['manifest.json']},\n",
       "   'environment': {'path': 'entorno', 'files': ['environment.json']}}},\n",
       " 'meta': {'name': 'streetlight', 'version': '1.9.0'},\n",
       " 'ddls': {'sources': {'base': {'path': 'model/db',\n",
       "    'files': ['ddls.sql'],\n",
       "    'weight': 0}},\n",
       "  'variables': {'duration': '${lastdata_duration}'}},\n",
       " 'subscriptions': {'streetlight-historic': {'status': 'active',\n",
       "   'subject': {'entities': [{'idPattern': '.*', 'type': 'Streetlight'}],\n",
       "    'condition': {'attrs': ['TimeInstant']}},\n",
       "   'notification': {'http': {'url': 'HISTORIC'},\n",
       "    'attrs': ['TimeInstant',\n",
       "     'activePower',\n",
       "     'address',\n",
       "     'controllingMethod',\n",
       "     'dateLastSwitchingOff',\n",
       "     'dateLastSwitchingOn',\n",
       "     'dateMeteringStarted',\n",
       "     'dateServiceStarted',\n",
       "     'delay'],\n",
       "    'onlyChangedAttrs': False,\n",
       "    'attrsFormat': 'normalized'}},\n",
       "  'streetlightcontrolcabinet-historic': {'status': 'active',\n",
       "   'subject': {'entities': [{'idPattern': '.*',\n",
       "      'type': 'StreetlightControlCabinet'}],\n",
       "    'condition': {'attrs': ['TimeInstant']}},\n",
       "   'notification': {'http': {'url': 'HISTORIC'},\n",
       "    'attrs': ['TimeInstant',\n",
       "     'activePowerR',\n",
       "     'activePowerS',\n",
       "     'activePowerT',\n",
       "     'address',\n",
       "     'brandName',\n",
       "     'cosPhi',\n",
       "     'dateLastProgramming',\n",
       "     'dateLastSwitchingOff',\n",
       "     'dateLastSwitchingOn',\n",
       "     'dateMeteringStarted',\n",
       "     'dateServiceStarted',\n",
       "     'energyConsumed',\n",
       "     'energyCost'],\n",
       "    'onlyChangedAttrs': False,\n",
       "    'attrsFormat': 'normalized'}},\n",
       "  'streetlight-cep': {'status': 'active',\n",
       "   'subject': {'entities': [{'idPattern': '.*', 'type': 'Streetlight'}],\n",
       "    'condition': {'attrs': []}},\n",
       "   'notification': {'http': {'url': 'RULES'},\n",
       "    'attrs': [],\n",
       "    'onlyChangedAttrs': False,\n",
       "    'attrsFormat': 'normalized'}},\n",
       "  'streetlight-commands-historic': {'status': 'active',\n",
       "   'subject': {'entities': [{'idPattern': '.*', 'type': 'Streetlight'}],\n",
       "    'condition': {'attrs': ['commandTimeinstant'],\n",
       "     'expression': {'q': \"enableHistoricCommand:'true'\"}}},\n",
       "   'notification': {'httpCustom': {'url': 'HISTORIC',\n",
       "     'headers': {'Fiware-Servicepath': '${servicepath_commands}'}},\n",
       "    'attrs': ['setIlluminanceLevel',\n",
       "     'setIlluminanceLevel_info',\n",
       "     'setIlluminanceLevel_status',\n",
       "     'dateLastCommanded',\n",
       "     'lastCommander',\n",
       "     'powerState',\n",
       "     'workingMode',\n",
       "     'commandTimeinstant'],\n",
       "    'onlyChangedAttrs': False,\n",
       "    'attrsFormat': 'normalized'}},\n",
       "  'streetlightcontrolcabinet-cep-cmdilluminancelevel': {'status': 'active',\n",
       "   'subject': {'entities': [{'idPattern': '.*',\n",
       "      'type': 'StreetlightControlCabinet'}],\n",
       "    'condition': {'attrs': ['cmdIlluminanceLevel']}},\n",
       "   'notification': {'http': {'url': 'RULES'},\n",
       "    'attrs': ['cmdIlluminanceLevel'],\n",
       "    'onlyChangedAttrs': False,\n",
       "    'attrsFormat': 'normalized'}},\n",
       "  'streetlightcontrolcabinet-cep-cmdworkingmode': {'status': 'active',\n",
       "   'subject': {'entities': [{'idPattern': '.*',\n",
       "      'type': 'StreetlightControlCabinet'}],\n",
       "    'condition': {'attrs': ['cmdWorkingMode']}},\n",
       "   'notification': {'http': {'url': 'RULES'},\n",
       "    'attrs': ['cmdWorkingMode'],\n",
       "    'onlyChangedAttrs': False,\n",
       "    'attrsFormat': 'normalized'}},\n",
       "  'streetlightcontrolcabinet-cep-cmdpowerstate': {'status': 'active',\n",
       "   'subject': {'entities': [{'idPattern': '.*',\n",
       "      'type': 'StreetlightControlCabinet'}],\n",
       "    'condition': {'attrs': ['cmdPowerState']}},\n",
       "   'notification': {'http': {'url': 'RULES'},\n",
       "    'attrs': ['cmdPowerState'],\n",
       "    'onlyChangedAttrs': False,\n",
       "    'attrsFormat': 'normalized'}},\n",
       "  'streetlightzone-cep-cmdilluminancelevel': {'status': 'active',\n",
       "   'subject': {'entities': [{'idPattern': '.*', 'type': 'StreetlightZone'}],\n",
       "    'condition': {'attrs': ['cmdIlluminanceLevel']}},\n",
       "   'notification': {'http': {'url': 'RULES'},\n",
       "    'attrs': ['cmdIlluminanceLevel'],\n",
       "    'onlyChangedAttrs': False,\n",
       "    'attrsFormat': 'normalized'}},\n",
       "  'streetlightzone-cep-cmdworkingmode': {'status': 'active',\n",
       "   'subject': {'entities': [{'idPattern': '.*', 'type': 'StreetlightZone'}],\n",
       "    'condition': {'attrs': ['cmdWorkingMode']}},\n",
       "   'notification': {'http': {'url': 'RULES'},\n",
       "    'attrs': ['cmdWorkingMode'],\n",
       "    'onlyChangedAttrs': False,\n",
       "    'attrsFormat': 'normalized'}},\n",
       "  'streetlight-lastdata': {'status': 'active',\n",
       "   'subject': {'entities': [{'idPattern': '.*', 'type': 'Streetlight'}],\n",
       "    'condition': {'attrs': ['TimeInstant']}},\n",
       "   'notification': {'http': {'url': 'LASTDATA'},\n",
       "    'attrs': ['TimeInstant',\n",
       "     'activePower',\n",
       "     'address',\n",
       "     'controllingMethod',\n",
       "     'dateLastSwitchingOff',\n",
       "     'dateLastSwitchingOn',\n",
       "     'dateMeteringStarted',\n",
       "     'dateServiceStarted',\n",
       "     'delay'],\n",
       "    'onlyChangedAttrs': False,\n",
       "    'attrsFormat': 'normalized'}},\n",
       "  'streetlightcontrolcabinet-lastdata': {'status': 'active',\n",
       "   'subject': {'entities': [{'idPattern': '.*',\n",
       "      'type': 'StreetlightControlCabinet'}],\n",
       "    'condition': {'attrs': ['TimeInstant']}},\n",
       "   'notification': {'http': {'url': 'LASTDATA'},\n",
       "    'attrs': ['TimeInstant',\n",
       "     'activePowerR',\n",
       "     'activePowerS',\n",
       "     'activePowerT',\n",
       "     'address',\n",
       "     'brandName',\n",
       "     'cosPhi',\n",
       "     'dateLastProgramming',\n",
       "     'dateLastSwitchingOff',\n",
       "     'dateLastSwitchingOn',\n",
       "     'dateMeteringStarted',\n",
       "     'dateServiceStarted',\n",
       "     'energyConsumed',\n",
       "     'energyCost',\n",
       "     'frequency'],\n",
       "    'onlyChangedAttrs': False,\n",
       "    'attrsFormat': 'normalized'}},\n",
       "  'streetlightgroup-cep-cmdilluminancelevel': {'status': 'active',\n",
       "   'subject': {'entities': [{'idPattern': '.*', 'type': 'StreetlightGroup'}],\n",
       "    'condition': {'attrs': ['cmdIlluminanceLevel']}},\n",
       "   'notification': {'http': {'url': 'RULES'},\n",
       "    'attrs': ['cmdIlluminanceLevel'],\n",
       "    'onlyChangedAttrs': False,\n",
       "    'attrsFormat': 'normalized'}}},\n",
       " 'environment': {'service': 'urbodeployer',\n",
       "  'database': 'urbodeployer',\n",
       "  'databaseSchemas': {'DEFAULT': 'urbodeployer'},\n",
       "  'api': {'postgis': 'host=iot.lab.urbo2.es port=5432',\n",
       "   'orion': 'https://iot.lab.urbo2.es:1026',\n",
       "   'keystone': 'http://iot.lab.urbo2.es:5001'},\n",
       "  'notificationEndpoints': {'HISTORIC': 'http://iot-cygnus:5057/notify',\n",
       "   'LASTDATA': 'http://iot-cygnus:5059/notify',\n",
       "   'RULES': 'https://iot-perseo:9090/notices'}}}"
      ]
     },
     "execution_count": 66,
     "metadata": {},
     "output_type": "execute_result"
    }
   ],
   "source": [
    "import os.path\n",
    "\n",
    "def collect_sources(path: str) -> Any:\n",
    "    pass\n",
    "\n",
    "collect_sources(\"datos/deployment.json\")"
   ]
  },
  {
   "cell_type": "markdown",
   "metadata": {},
   "source": [
    "### Prueba 3\n",
    "\n",
    "Edita el código de la celda de abajo para implementar la función `update_subscriptions`. Esta función debe recibir el resultado de la función `collect_sources`, recorrer el diccionario de `subscriptions`, ejecutar las siguientes modificaciones, y devolver el diccionario de `subscriptions` modificado:\n",
    "\n",
    "- Añadir a cada `subscription` una nueva propiedad `description` resultado de llamar a la funcion `sub_description` con el resultado de `collect_sources`, y el nombre de la suscripción.\n",
    "- Modificar el atributo `url` de la suscripción, para sustituirlo por el valor correspondiente del diccionario `[\"environment\"][\"notificationEndpoints\"]` (por ejemplo, si el atributo `[\"notification\"][\"http\"][\"url\"]` de la suscripción es *LASTDATA*, habría que cambiarlo por *http://iot-cygnus:5059/notify*."
   ]
  },
  {
   "cell_type": "code",
   "execution_count": 67,
   "metadata": {},
   "outputs": [
    {
     "data": {
      "text/plain": [
       "{'status': 'active',\n",
       " 'subject': {'entities': [{'idPattern': '.*', 'type': 'Streetlight'}],\n",
       "  'condition': {'attrs': ['commandTimeinstant'],\n",
       "   'expression': {'q': \"enableHistoricCommand:'true'\"}}},\n",
       " 'notification': {'httpCustom': {'url': 'http://iot-cygnus:5057/notify',\n",
       "   'headers': {'Fiware-Servicepath': '${servicepath_commands}'}},\n",
       "  'attrs': ['setIlluminanceLevel',\n",
       "   'setIlluminanceLevel_info',\n",
       "   'setIlluminanceLevel_status',\n",
       "   'dateLastCommanded',\n",
       "   'lastCommander',\n",
       "   'powerState',\n",
       "   'workingMode',\n",
       "   'commandTimeinstant'],\n",
       "  'onlyChangedAttrs': False,\n",
       "  'attrsFormat': 'normalized'},\n",
       " 'description': 'DEPLOYER:streetlight:1.9.0:streetlight-commands-historic'}"
      ]
     },
     "execution_count": 67,
     "metadata": {},
     "output_type": "execute_result"
    }
   ],
   "source": [
    "def sub_description(sources: Any, sub_name: str) -> str:\n",
    "    return \"DEPLOYER:\" + sources[\"meta\"][\"name\"] + \":\" + sources[\"meta\"][\"version\"] + \":\" + sub_name\n",
    "\n",
    "def update_subscriptions(sources: Any):\n",
    "    pass\n",
    "\n",
    "sources = collect_sources(\"datos/deployment.json\")\n",
    "subs    = update_subscriptions(sources)\n",
    "subs['streetlight-commands-historic']"
   ]
  },
  {
   "cell_type": "markdown",
   "metadata": {},
   "source": [
    "### Prueba 4\n",
    "\n",
    "Edita el código de la celda de abajo para implementar la función `replace_variables`. Esta función debe recibir un diccionario de datos y otro de variables, y debe recorrer el diccionario de datos recursivamente reemplazando el patrón *${variable}* en cualquier texto por la correspondiente variable del diccionario de variables.\n",
    "\n",
    "Por ejemplo, `replace_variables({\"a\":{\"b\":\"test vale ${test}\"}}, {\"test\": \"valor\"})` debe devolver el resultado `{\"a\":{\"b\":\"test vale valor\"}}`"
   ]
  },
  {
   "cell_type": "code",
   "execution_count": 68,
   "metadata": {},
   "outputs": [
    {
     "data": {
      "text/plain": [
       "{'status': 'active',\n",
       " 'subject': {'entities': [{'idPattern': '.*', 'type': 'Streetlight'}],\n",
       "  'condition': {'attrs': ['commandTimeinstant'],\n",
       "   'expression': {'q': \"enableHistoricCommand:'true'\"}}},\n",
       " 'notification': {'httpCustom': {'url': 'http://iot-cygnus:5057/notify',\n",
       "   'headers': {'Fiware-Servicepath': '/lightningcommands'}},\n",
       "  'attrs': ['setIlluminanceLevel',\n",
       "   'setIlluminanceLevel_info',\n",
       "   'setIlluminanceLevel_status',\n",
       "   'dateLastCommanded',\n",
       "   'lastCommander',\n",
       "   'powerState',\n",
       "   'workingMode',\n",
       "   'commandTimeinstant'],\n",
       "  'onlyChangedAttrs': False,\n",
       "  'attrsFormat': 'normalized'},\n",
       " 'description': 'DEPLOYER:streetlight:1.9.0:streetlight-commands-historic'}"
      ]
     },
     "execution_count": 68,
     "metadata": {},
     "output_type": "execute_result"
    }
   ],
   "source": [
    "from typing import Dict\n",
    "import string\n",
    "\n",
    "def replace_variables(data: Any, variables: Dict[str, str]) -> Any:\n",
    "    pass\n",
    "\n",
    "replaced = replace_variables(subs, sources['deployment']['variables'])\n",
    "replaced['streetlight-commands-historic']"
   ]
  },
  {
   "cell_type": "markdown",
   "metadata": {},
   "source": [
    "### Prueba 5\n",
    "\n",
    "Aseguráte de que tu código supera los tests de la celda de abajo. No debes modificar los tests."
   ]
  },
  {
   "cell_type": "code",
   "execution_count": 69,
   "metadata": {},
   "outputs": [
    {
     "name": "stderr",
     "output_type": "stream",
     "text": [
      "....\n",
      "----------------------------------------------------------------------\n",
      "Ran 4 tests in 0.008s\n",
      "\n",
      "OK\n"
     ]
    },
    {
     "data": {
      "text/plain": [
       "<unittest.main.TestProgram at 0x7fd8c4b7adf0>"
      ]
     },
     "execution_count": 69,
     "metadata": {},
     "output_type": "execute_result"
    }
   ],
   "source": [
    "import unittest\n",
    "\n",
    "class Test(unittest.TestCase):\n",
    "\n",
    "    def test_read_deployment(self):\n",
    "        data = read_deployment(\"datos/deployment.json\")\n",
    "        self.maxDiff = None\n",
    "        self.assertEqual(json.dumps(data, sort_keys=True), \"\"\"{\"deployment\": {\"sources\": {\"environment\": {\"files\": [\"environment.json\"], \"path\": \"entorno\"}, \"manifests\": {\"files\": [\"manifest.json\"]}}, \"subservice\": \"/alumbrado\", \"variables\": {\"lastdata_duration\": \"20 days\", \"servicepath_commands\": \"/lightningcommands\"}}}\"\"\")\n",
    "\n",
    "    def test_collect_sources(self):\n",
    "        data = collect_sources(\"datos/deployment.json\")\n",
    "        self.maxDiff = None\n",
    "        self.assertEqual(json.dumps(data, sort_keys=True), \"\"\"{\"ddls\": {\"sources\": {\"base\": {\"files\": [\"ddls.sql\"], \"path\": \"model/db\", \"weight\": 0}}, \"variables\": {\"duration\": \"${lastdata_duration}\"}}, \"deployment\": {\"sources\": {\"environment\": {\"files\": [\"environment.json\"], \"path\": \"entorno\"}, \"manifests\": {\"files\": [\"manifest.json\"]}}, \"subservice\": \"/alumbrado\", \"variables\": {\"lastdata_duration\": \"20 days\", \"servicepath_commands\": \"/lightningcommands\"}}, \"environment\": {\"api\": {\"keystone\": \"http://iot.lab.urbo2.es:5001\", \"orion\": \"https://iot.lab.urbo2.es:1026\", \"postgis\": \"host=iot.lab.urbo2.es port=5432\"}, \"database\": \"urbodeployer\", \"databaseSchemas\": {\"DEFAULT\": \"urbodeployer\"}, \"notificationEndpoints\": {\"HISTORIC\": \"http://iot-cygnus:5057/notify\", \"LASTDATA\": \"http://iot-cygnus:5059/notify\", \"RULES\": \"https://iot-perseo:9090/notices\"}, \"service\": \"urbodeployer\"}, \"meta\": {\"name\": \"streetlight\", \"version\": \"1.9.0\"}, \"subscriptions\": {\"streetlight-cep\": {\"notification\": {\"attrs\": [], \"attrsFormat\": \"normalized\", \"http\": {\"url\": \"RULES\"}, \"onlyChangedAttrs\": false}, \"status\": \"active\", \"subject\": {\"condition\": {\"attrs\": []}, \"entities\": [{\"idPattern\": \".*\", \"type\": \"Streetlight\"}]}}, \"streetlight-commands-historic\": {\"notification\": {\"attrs\": [\"setIlluminanceLevel\", \"setIlluminanceLevel_info\", \"setIlluminanceLevel_status\", \"dateLastCommanded\", \"lastCommander\", \"powerState\", \"workingMode\", \"commandTimeinstant\"], \"attrsFormat\": \"normalized\", \"httpCustom\": {\"headers\": {\"Fiware-Servicepath\": \"${servicepath_commands}\"}, \"url\": \"HISTORIC\"}, \"onlyChangedAttrs\": false}, \"status\": \"active\", \"subject\": {\"condition\": {\"attrs\": [\"commandTimeinstant\"], \"expression\": {\"q\": \"enableHistoricCommand:'true'\"}}, \"entities\": [{\"idPattern\": \".*\", \"type\": \"Streetlight\"}]}}, \"streetlight-historic\": {\"notification\": {\"attrs\": [\"TimeInstant\", \"activePower\", \"address\", \"controllingMethod\", \"dateLastSwitchingOff\", \"dateLastSwitchingOn\", \"dateMeteringStarted\", \"dateServiceStarted\", \"delay\"], \"attrsFormat\": \"normalized\", \"http\": {\"url\": \"HISTORIC\"}, \"onlyChangedAttrs\": false}, \"status\": \"active\", \"subject\": {\"condition\": {\"attrs\": [\"TimeInstant\"]}, \"entities\": [{\"idPattern\": \".*\", \"type\": \"Streetlight\"}]}}, \"streetlight-lastdata\": {\"notification\": {\"attrs\": [\"TimeInstant\", \"activePower\", \"address\", \"controllingMethod\", \"dateLastSwitchingOff\", \"dateLastSwitchingOn\", \"dateMeteringStarted\", \"dateServiceStarted\", \"delay\"], \"attrsFormat\": \"normalized\", \"http\": {\"url\": \"LASTDATA\"}, \"onlyChangedAttrs\": false}, \"status\": \"active\", \"subject\": {\"condition\": {\"attrs\": [\"TimeInstant\"]}, \"entities\": [{\"idPattern\": \".*\", \"type\": \"Streetlight\"}]}}, \"streetlightcontrolcabinet-cep-cmdilluminancelevel\": {\"notification\": {\"attrs\": [\"cmdIlluminanceLevel\"], \"attrsFormat\": \"normalized\", \"http\": {\"url\": \"RULES\"}, \"onlyChangedAttrs\": false}, \"status\": \"active\", \"subject\": {\"condition\": {\"attrs\": [\"cmdIlluminanceLevel\"]}, \"entities\": [{\"idPattern\": \".*\", \"type\": \"StreetlightControlCabinet\"}]}}, \"streetlightcontrolcabinet-cep-cmdpowerstate\": {\"notification\": {\"attrs\": [\"cmdPowerState\"], \"attrsFormat\": \"normalized\", \"http\": {\"url\": \"RULES\"}, \"onlyChangedAttrs\": false}, \"status\": \"active\", \"subject\": {\"condition\": {\"attrs\": [\"cmdPowerState\"]}, \"entities\": [{\"idPattern\": \".*\", \"type\": \"StreetlightControlCabinet\"}]}}, \"streetlightcontrolcabinet-cep-cmdworkingmode\": {\"notification\": {\"attrs\": [\"cmdWorkingMode\"], \"attrsFormat\": \"normalized\", \"http\": {\"url\": \"RULES\"}, \"onlyChangedAttrs\": false}, \"status\": \"active\", \"subject\": {\"condition\": {\"attrs\": [\"cmdWorkingMode\"]}, \"entities\": [{\"idPattern\": \".*\", \"type\": \"StreetlightControlCabinet\"}]}}, \"streetlightcontrolcabinet-historic\": {\"notification\": {\"attrs\": [\"TimeInstant\", \"activePowerR\", \"activePowerS\", \"activePowerT\", \"address\", \"brandName\", \"cosPhi\", \"dateLastProgramming\", \"dateLastSwitchingOff\", \"dateLastSwitchingOn\", \"dateMeteringStarted\", \"dateServiceStarted\", \"energyConsumed\", \"energyCost\"], \"attrsFormat\": \"normalized\", \"http\": {\"url\": \"HISTORIC\"}, \"onlyChangedAttrs\": false}, \"status\": \"active\", \"subject\": {\"condition\": {\"attrs\": [\"TimeInstant\"]}, \"entities\": [{\"idPattern\": \".*\", \"type\": \"StreetlightControlCabinet\"}]}}, \"streetlightcontrolcabinet-lastdata\": {\"notification\": {\"attrs\": [\"TimeInstant\", \"activePowerR\", \"activePowerS\", \"activePowerT\", \"address\", \"brandName\", \"cosPhi\", \"dateLastProgramming\", \"dateLastSwitchingOff\", \"dateLastSwitchingOn\", \"dateMeteringStarted\", \"dateServiceStarted\", \"energyConsumed\", \"energyCost\", \"frequency\"], \"attrsFormat\": \"normalized\", \"http\": {\"url\": \"LASTDATA\"}, \"onlyChangedAttrs\": false}, \"status\": \"active\", \"subject\": {\"condition\": {\"attrs\": [\"TimeInstant\"]}, \"entities\": [{\"idPattern\": \".*\", \"type\": \"StreetlightControlCabinet\"}]}}, \"streetlightgroup-cep-cmdilluminancelevel\": {\"notification\": {\"attrs\": [\"cmdIlluminanceLevel\"], \"attrsFormat\": \"normalized\", \"http\": {\"url\": \"RULES\"}, \"onlyChangedAttrs\": false}, \"status\": \"active\", \"subject\": {\"condition\": {\"attrs\": [\"cmdIlluminanceLevel\"]}, \"entities\": [{\"idPattern\": \".*\", \"type\": \"StreetlightGroup\"}]}}, \"streetlightzone-cep-cmdilluminancelevel\": {\"notification\": {\"attrs\": [\"cmdIlluminanceLevel\"], \"attrsFormat\": \"normalized\", \"http\": {\"url\": \"RULES\"}, \"onlyChangedAttrs\": false}, \"status\": \"active\", \"subject\": {\"condition\": {\"attrs\": [\"cmdIlluminanceLevel\"]}, \"entities\": [{\"idPattern\": \".*\", \"type\": \"StreetlightZone\"}]}}, \"streetlightzone-cep-cmdworkingmode\": {\"notification\": {\"attrs\": [\"cmdWorkingMode\"], \"attrsFormat\": \"normalized\", \"http\": {\"url\": \"RULES\"}, \"onlyChangedAttrs\": false}, \"status\": \"active\", \"subject\": {\"condition\": {\"attrs\": [\"cmdWorkingMode\"]}, \"entities\": [{\"idPattern\": \".*\", \"type\": \"StreetlightZone\"}]}}}}\"\"\")\n",
    "\n",
    "    def test_update_subscriptions(self):\n",
    "        data = update_subscriptions(collect_sources(\"datos/deployment.json\"))\n",
    "        self.maxDiff = None\n",
    "        self.assertEqual(json.dumps(data, sort_keys=True), \"\"\"{\"streetlight-cep\": {\"description\": \"DEPLOYER:streetlight:1.9.0:streetlight-cep\", \"notification\": {\"attrs\": [], \"attrsFormat\": \"normalized\", \"http\": {\"url\": \"https://iot-perseo:9090/notices\"}, \"onlyChangedAttrs\": false}, \"status\": \"active\", \"subject\": {\"condition\": {\"attrs\": []}, \"entities\": [{\"idPattern\": \".*\", \"type\": \"Streetlight\"}]}}, \"streetlight-commands-historic\": {\"description\": \"DEPLOYER:streetlight:1.9.0:streetlight-commands-historic\", \"notification\": {\"attrs\": [\"setIlluminanceLevel\", \"setIlluminanceLevel_info\", \"setIlluminanceLevel_status\", \"dateLastCommanded\", \"lastCommander\", \"powerState\", \"workingMode\", \"commandTimeinstant\"], \"attrsFormat\": \"normalized\", \"httpCustom\": {\"headers\": {\"Fiware-Servicepath\": \"${servicepath_commands}\"}, \"url\": \"http://iot-cygnus:5057/notify\"}, \"onlyChangedAttrs\": false}, \"status\": \"active\", \"subject\": {\"condition\": {\"attrs\": [\"commandTimeinstant\"], \"expression\": {\"q\": \"enableHistoricCommand:'true'\"}}, \"entities\": [{\"idPattern\": \".*\", \"type\": \"Streetlight\"}]}}, \"streetlight-historic\": {\"description\": \"DEPLOYER:streetlight:1.9.0:streetlight-historic\", \"notification\": {\"attrs\": [\"TimeInstant\", \"activePower\", \"address\", \"controllingMethod\", \"dateLastSwitchingOff\", \"dateLastSwitchingOn\", \"dateMeteringStarted\", \"dateServiceStarted\", \"delay\"], \"attrsFormat\": \"normalized\", \"http\": {\"url\": \"http://iot-cygnus:5057/notify\"}, \"onlyChangedAttrs\": false}, \"status\": \"active\", \"subject\": {\"condition\": {\"attrs\": [\"TimeInstant\"]}, \"entities\": [{\"idPattern\": \".*\", \"type\": \"Streetlight\"}]}}, \"streetlight-lastdata\": {\"description\": \"DEPLOYER:streetlight:1.9.0:streetlight-lastdata\", \"notification\": {\"attrs\": [\"TimeInstant\", \"activePower\", \"address\", \"controllingMethod\", \"dateLastSwitchingOff\", \"dateLastSwitchingOn\", \"dateMeteringStarted\", \"dateServiceStarted\", \"delay\"], \"attrsFormat\": \"normalized\", \"http\": {\"url\": \"http://iot-cygnus:5059/notify\"}, \"onlyChangedAttrs\": false}, \"status\": \"active\", \"subject\": {\"condition\": {\"attrs\": [\"TimeInstant\"]}, \"entities\": [{\"idPattern\": \".*\", \"type\": \"Streetlight\"}]}}, \"streetlightcontrolcabinet-cep-cmdilluminancelevel\": {\"description\": \"DEPLOYER:streetlight:1.9.0:streetlightcontrolcabinet-cep-cmdilluminancelevel\", \"notification\": {\"attrs\": [\"cmdIlluminanceLevel\"], \"attrsFormat\": \"normalized\", \"http\": {\"url\": \"https://iot-perseo:9090/notices\"}, \"onlyChangedAttrs\": false}, \"status\": \"active\", \"subject\": {\"condition\": {\"attrs\": [\"cmdIlluminanceLevel\"]}, \"entities\": [{\"idPattern\": \".*\", \"type\": \"StreetlightControlCabinet\"}]}}, \"streetlightcontrolcabinet-cep-cmdpowerstate\": {\"description\": \"DEPLOYER:streetlight:1.9.0:streetlightcontrolcabinet-cep-cmdpowerstate\", \"notification\": {\"attrs\": [\"cmdPowerState\"], \"attrsFormat\": \"normalized\", \"http\": {\"url\": \"https://iot-perseo:9090/notices\"}, \"onlyChangedAttrs\": false}, \"status\": \"active\", \"subject\": {\"condition\": {\"attrs\": [\"cmdPowerState\"]}, \"entities\": [{\"idPattern\": \".*\", \"type\": \"StreetlightControlCabinet\"}]}}, \"streetlightcontrolcabinet-cep-cmdworkingmode\": {\"description\": \"DEPLOYER:streetlight:1.9.0:streetlightcontrolcabinet-cep-cmdworkingmode\", \"notification\": {\"attrs\": [\"cmdWorkingMode\"], \"attrsFormat\": \"normalized\", \"http\": {\"url\": \"https://iot-perseo:9090/notices\"}, \"onlyChangedAttrs\": false}, \"status\": \"active\", \"subject\": {\"condition\": {\"attrs\": [\"cmdWorkingMode\"]}, \"entities\": [{\"idPattern\": \".*\", \"type\": \"StreetlightControlCabinet\"}]}}, \"streetlightcontrolcabinet-historic\": {\"description\": \"DEPLOYER:streetlight:1.9.0:streetlightcontrolcabinet-historic\", \"notification\": {\"attrs\": [\"TimeInstant\", \"activePowerR\", \"activePowerS\", \"activePowerT\", \"address\", \"brandName\", \"cosPhi\", \"dateLastProgramming\", \"dateLastSwitchingOff\", \"dateLastSwitchingOn\", \"dateMeteringStarted\", \"dateServiceStarted\", \"energyConsumed\", \"energyCost\"], \"attrsFormat\": \"normalized\", \"http\": {\"url\": \"http://iot-cygnus:5057/notify\"}, \"onlyChangedAttrs\": false}, \"status\": \"active\", \"subject\": {\"condition\": {\"attrs\": [\"TimeInstant\"]}, \"entities\": [{\"idPattern\": \".*\", \"type\": \"StreetlightControlCabinet\"}]}}, \"streetlightcontrolcabinet-lastdata\": {\"description\": \"DEPLOYER:streetlight:1.9.0:streetlightcontrolcabinet-lastdata\", \"notification\": {\"attrs\": [\"TimeInstant\", \"activePowerR\", \"activePowerS\", \"activePowerT\", \"address\", \"brandName\", \"cosPhi\", \"dateLastProgramming\", \"dateLastSwitchingOff\", \"dateLastSwitchingOn\", \"dateMeteringStarted\", \"dateServiceStarted\", \"energyConsumed\", \"energyCost\", \"frequency\"], \"attrsFormat\": \"normalized\", \"http\": {\"url\": \"http://iot-cygnus:5059/notify\"}, \"onlyChangedAttrs\": false}, \"status\": \"active\", \"subject\": {\"condition\": {\"attrs\": [\"TimeInstant\"]}, \"entities\": [{\"idPattern\": \".*\", \"type\": \"StreetlightControlCabinet\"}]}}, \"streetlightgroup-cep-cmdilluminancelevel\": {\"description\": \"DEPLOYER:streetlight:1.9.0:streetlightgroup-cep-cmdilluminancelevel\", \"notification\": {\"attrs\": [\"cmdIlluminanceLevel\"], \"attrsFormat\": \"normalized\", \"http\": {\"url\": \"https://iot-perseo:9090/notices\"}, \"onlyChangedAttrs\": false}, \"status\": \"active\", \"subject\": {\"condition\": {\"attrs\": [\"cmdIlluminanceLevel\"]}, \"entities\": [{\"idPattern\": \".*\", \"type\": \"StreetlightGroup\"}]}}, \"streetlightzone-cep-cmdilluminancelevel\": {\"description\": \"DEPLOYER:streetlight:1.9.0:streetlightzone-cep-cmdilluminancelevel\", \"notification\": {\"attrs\": [\"cmdIlluminanceLevel\"], \"attrsFormat\": \"normalized\", \"http\": {\"url\": \"https://iot-perseo:9090/notices\"}, \"onlyChangedAttrs\": false}, \"status\": \"active\", \"subject\": {\"condition\": {\"attrs\": [\"cmdIlluminanceLevel\"]}, \"entities\": [{\"idPattern\": \".*\", \"type\": \"StreetlightZone\"}]}}, \"streetlightzone-cep-cmdworkingmode\": {\"description\": \"DEPLOYER:streetlight:1.9.0:streetlightzone-cep-cmdworkingmode\", \"notification\": {\"attrs\": [\"cmdWorkingMode\"], \"attrsFormat\": \"normalized\", \"http\": {\"url\": \"https://iot-perseo:9090/notices\"}, \"onlyChangedAttrs\": false}, \"status\": \"active\", \"subject\": {\"condition\": {\"attrs\": [\"cmdWorkingMode\"]}, \"entities\": [{\"idPattern\": \".*\", \"type\": \"StreetlightZone\"}]}}}\"\"\")\n",
    "\n",
    "    def test_replace_subscriptions(self):\n",
    "        sources  = collect_sources(\"datos/deployment.json\")\n",
    "        subs     = update_subscriptions(sources)\n",
    "        replaced = replace_variables(subs, sources['deployment']['variables'])\n",
    "        self.maxDiff = None\n",
    "        self.assertEqual(json.dumps(replaced, sort_keys=True), \"\"\"{\"streetlight-cep\": {\"description\": \"DEPLOYER:streetlight:1.9.0:streetlight-cep\", \"notification\": {\"attrs\": [], \"attrsFormat\": \"normalized\", \"http\": {\"url\": \"https://iot-perseo:9090/notices\"}, \"onlyChangedAttrs\": false}, \"status\": \"active\", \"subject\": {\"condition\": {\"attrs\": []}, \"entities\": [{\"idPattern\": \".*\", \"type\": \"Streetlight\"}]}}, \"streetlight-commands-historic\": {\"description\": \"DEPLOYER:streetlight:1.9.0:streetlight-commands-historic\", \"notification\": {\"attrs\": [\"setIlluminanceLevel\", \"setIlluminanceLevel_info\", \"setIlluminanceLevel_status\", \"dateLastCommanded\", \"lastCommander\", \"powerState\", \"workingMode\", \"commandTimeinstant\"], \"attrsFormat\": \"normalized\", \"httpCustom\": {\"headers\": {\"Fiware-Servicepath\": \"/lightningcommands\"}, \"url\": \"http://iot-cygnus:5057/notify\"}, \"onlyChangedAttrs\": false}, \"status\": \"active\", \"subject\": {\"condition\": {\"attrs\": [\"commandTimeinstant\"], \"expression\": {\"q\": \"enableHistoricCommand:'true'\"}}, \"entities\": [{\"idPattern\": \".*\", \"type\": \"Streetlight\"}]}}, \"streetlight-historic\": {\"description\": \"DEPLOYER:streetlight:1.9.0:streetlight-historic\", \"notification\": {\"attrs\": [\"TimeInstant\", \"activePower\", \"address\", \"controllingMethod\", \"dateLastSwitchingOff\", \"dateLastSwitchingOn\", \"dateMeteringStarted\", \"dateServiceStarted\", \"delay\"], \"attrsFormat\": \"normalized\", \"http\": {\"url\": \"http://iot-cygnus:5057/notify\"}, \"onlyChangedAttrs\": false}, \"status\": \"active\", \"subject\": {\"condition\": {\"attrs\": [\"TimeInstant\"]}, \"entities\": [{\"idPattern\": \".*\", \"type\": \"Streetlight\"}]}}, \"streetlight-lastdata\": {\"description\": \"DEPLOYER:streetlight:1.9.0:streetlight-lastdata\", \"notification\": {\"attrs\": [\"TimeInstant\", \"activePower\", \"address\", \"controllingMethod\", \"dateLastSwitchingOff\", \"dateLastSwitchingOn\", \"dateMeteringStarted\", \"dateServiceStarted\", \"delay\"], \"attrsFormat\": \"normalized\", \"http\": {\"url\": \"http://iot-cygnus:5059/notify\"}, \"onlyChangedAttrs\": false}, \"status\": \"active\", \"subject\": {\"condition\": {\"attrs\": [\"TimeInstant\"]}, \"entities\": [{\"idPattern\": \".*\", \"type\": \"Streetlight\"}]}}, \"streetlightcontrolcabinet-cep-cmdilluminancelevel\": {\"description\": \"DEPLOYER:streetlight:1.9.0:streetlightcontrolcabinet-cep-cmdilluminancelevel\", \"notification\": {\"attrs\": [\"cmdIlluminanceLevel\"], \"attrsFormat\": \"normalized\", \"http\": {\"url\": \"https://iot-perseo:9090/notices\"}, \"onlyChangedAttrs\": false}, \"status\": \"active\", \"subject\": {\"condition\": {\"attrs\": [\"cmdIlluminanceLevel\"]}, \"entities\": [{\"idPattern\": \".*\", \"type\": \"StreetlightControlCabinet\"}]}}, \"streetlightcontrolcabinet-cep-cmdpowerstate\": {\"description\": \"DEPLOYER:streetlight:1.9.0:streetlightcontrolcabinet-cep-cmdpowerstate\", \"notification\": {\"attrs\": [\"cmdPowerState\"], \"attrsFormat\": \"normalized\", \"http\": {\"url\": \"https://iot-perseo:9090/notices\"}, \"onlyChangedAttrs\": false}, \"status\": \"active\", \"subject\": {\"condition\": {\"attrs\": [\"cmdPowerState\"]}, \"entities\": [{\"idPattern\": \".*\", \"type\": \"StreetlightControlCabinet\"}]}}, \"streetlightcontrolcabinet-cep-cmdworkingmode\": {\"description\": \"DEPLOYER:streetlight:1.9.0:streetlightcontrolcabinet-cep-cmdworkingmode\", \"notification\": {\"attrs\": [\"cmdWorkingMode\"], \"attrsFormat\": \"normalized\", \"http\": {\"url\": \"https://iot-perseo:9090/notices\"}, \"onlyChangedAttrs\": false}, \"status\": \"active\", \"subject\": {\"condition\": {\"attrs\": [\"cmdWorkingMode\"]}, \"entities\": [{\"idPattern\": \".*\", \"type\": \"StreetlightControlCabinet\"}]}}, \"streetlightcontrolcabinet-historic\": {\"description\": \"DEPLOYER:streetlight:1.9.0:streetlightcontrolcabinet-historic\", \"notification\": {\"attrs\": [\"TimeInstant\", \"activePowerR\", \"activePowerS\", \"activePowerT\", \"address\", \"brandName\", \"cosPhi\", \"dateLastProgramming\", \"dateLastSwitchingOff\", \"dateLastSwitchingOn\", \"dateMeteringStarted\", \"dateServiceStarted\", \"energyConsumed\", \"energyCost\"], \"attrsFormat\": \"normalized\", \"http\": {\"url\": \"http://iot-cygnus:5057/notify\"}, \"onlyChangedAttrs\": false}, \"status\": \"active\", \"subject\": {\"condition\": {\"attrs\": [\"TimeInstant\"]}, \"entities\": [{\"idPattern\": \".*\", \"type\": \"StreetlightControlCabinet\"}]}}, \"streetlightcontrolcabinet-lastdata\": {\"description\": \"DEPLOYER:streetlight:1.9.0:streetlightcontrolcabinet-lastdata\", \"notification\": {\"attrs\": [\"TimeInstant\", \"activePowerR\", \"activePowerS\", \"activePowerT\", \"address\", \"brandName\", \"cosPhi\", \"dateLastProgramming\", \"dateLastSwitchingOff\", \"dateLastSwitchingOn\", \"dateMeteringStarted\", \"dateServiceStarted\", \"energyConsumed\", \"energyCost\", \"frequency\"], \"attrsFormat\": \"normalized\", \"http\": {\"url\": \"http://iot-cygnus:5059/notify\"}, \"onlyChangedAttrs\": false}, \"status\": \"active\", \"subject\": {\"condition\": {\"attrs\": [\"TimeInstant\"]}, \"entities\": [{\"idPattern\": \".*\", \"type\": \"StreetlightControlCabinet\"}]}}, \"streetlightgroup-cep-cmdilluminancelevel\": {\"description\": \"DEPLOYER:streetlight:1.9.0:streetlightgroup-cep-cmdilluminancelevel\", \"notification\": {\"attrs\": [\"cmdIlluminanceLevel\"], \"attrsFormat\": \"normalized\", \"http\": {\"url\": \"https://iot-perseo:9090/notices\"}, \"onlyChangedAttrs\": false}, \"status\": \"active\", \"subject\": {\"condition\": {\"attrs\": [\"cmdIlluminanceLevel\"]}, \"entities\": [{\"idPattern\": \".*\", \"type\": \"StreetlightGroup\"}]}}, \"streetlightzone-cep-cmdilluminancelevel\": {\"description\": \"DEPLOYER:streetlight:1.9.0:streetlightzone-cep-cmdilluminancelevel\", \"notification\": {\"attrs\": [\"cmdIlluminanceLevel\"], \"attrsFormat\": \"normalized\", \"http\": {\"url\": \"https://iot-perseo:9090/notices\"}, \"onlyChangedAttrs\": false}, \"status\": \"active\", \"subject\": {\"condition\": {\"attrs\": [\"cmdIlluminanceLevel\"]}, \"entities\": [{\"idPattern\": \".*\", \"type\": \"StreetlightZone\"}]}}, \"streetlightzone-cep-cmdworkingmode\": {\"description\": \"DEPLOYER:streetlight:1.9.0:streetlightzone-cep-cmdworkingmode\", \"notification\": {\"attrs\": [\"cmdWorkingMode\"], \"attrsFormat\": \"normalized\", \"http\": {\"url\": \"https://iot-perseo:9090/notices\"}, \"onlyChangedAttrs\": false}, \"status\": \"active\", \"subject\": {\"condition\": {\"attrs\": [\"cmdWorkingMode\"]}, \"entities\": [{\"idPattern\": \".*\", \"type\": \"StreetlightZone\"}]}}}\"\"\")\n",
    "\n",
    "unittest.main(argv=[''], exit=False)"
   ]
  },
  {
   "cell_type": "markdown",
   "metadata": {},
   "source": [
    "## Pruebas CUE\n",
    "\n",
    "El objetivo de esta prueba es crear `schema`s (descripciones formales) que puedan servir para validar los ficheros json con los que has estado trabajando. Como lenguaje para describir el schema, vamos a utilizar **cue** (https://cuelang.org/).\n",
    "\n",
    "`cue` es un lenguaje reciente y es muy posible que no hayas trabajado nunca con él. Puedes familizarizarte con su uso con los tutoriales que encontrarás aquí: https://cuetorials.com/\n",
    "\n",
    "Asegúrate de descargar e instalar en tu entorno linux/unix la versión 0.4.3 de cue, que podrás obtener aquí: https://github.com/cue-lang/cue/releases/tag/v0.4.3\n",
    "\n",
    "### Prueba 1\n",
    "\n",
    "Modifica el fichero [schema/deployment.cue](schema/deployment.cue) para que el comando `cue vet schema/deployment.cue datos/deployment.json` no devuelva ningún error."
   ]
  },
  {
   "cell_type": "code",
   "execution_count": 70,
   "metadata": {},
   "outputs": [
    {
     "name": "stdout",
     "output_type": "stream",
     "text": [
      "deployment.variables.lastdata_duration: conflicting values \"20 days\" and int (mismatched types string and int):\n",
      "    ./datos/deployment.json:6:34\n",
      "    ./schema/deployment.cue:14:19\n",
      "deployment.variables.servicepath_commands: conflicting values \"/lightningcommands\" and int (mismatched types string and int):\n",
      "    ./datos/deployment.json:5:37\n",
      "    ./schema/deployment.cue:14:19\n"
     ]
    }
   ],
   "source": [
    "# (Debes conseguir que desaparezca el error)\n",
    "\n",
    "!cue vet -v schema/deployment.cue datos/deployment.json"
   ]
  },
  {
   "cell_type": "markdown",
   "metadata": {},
   "source": [
    "### Prueba 2\n",
    "\n",
    "Modifica el fichero [schema/environment.cue](schema/environment.cue) para que el comando `cue vet schema/environment.cue datos/entorno/environment.json` no devuelva ningún error."
   ]
  },
  {
   "cell_type": "code",
   "execution_count": 71,
   "metadata": {},
   "outputs": [
    {
     "name": "stdout",
     "output_type": "stream",
     "text": [
      "environment.api.orion: invalid value \"https://iot.lab.urbo2.es:1026\" (out of bound =~\"http://.*\"):\n",
      "    ./schema/environment.cue:11:24\n",
      "    ./datos/entorno/environment.json:10:25\n",
      "    ./schema/environment.cue:11:15\n",
      "environment.notificationEndpoints.RULES: invalid value \"https://iot-perseo:9090/notices\" (out of bound =~\"http://.*\"):\n",
      "    ./schema/environment.cue:19:21\n",
      "    ./datos/entorno/environment.json:16:22\n",
      "    ./schema/environment.cue:19:12\n",
      "    ./schema/environment.cue:23:36\n"
     ]
    }
   ],
   "source": [
    "# (Debes conseguir que desaparezca el error)\n",
    "\n",
    "!cue vet -v schema/environment.cue datos/entorno/environment.json"
   ]
  },
  {
   "cell_type": "markdown",
   "metadata": {},
   "source": [
    "### Prueba 3\n",
    "\n",
    "Modifica el fichero [schema/manifest.cue](schema/manifest.cue) para que el comando `cue vet schema/manifest.cue datos/manifest.json` no devuelva ningún error.\n"
   ]
  },
  {
   "cell_type": "code",
   "execution_count": 72,
   "metadata": {},
   "outputs": [
    {
     "name": "stdout",
     "output_type": "stream",
     "text": [
      "subscriptions.\"streetlight-commands-historic\".notification.httpCustom: field not allowed: headers:\n",
      "    ./datos/manifest.json:141:11\n",
      "    ./schema/manifest.cue:81:18\n",
      "    ./schema/manifest.cue:88:13\n"
     ]
    }
   ],
   "source": [
    "# (Debes conseguir que desaparezca el error)\n",
    "\n",
    "!cue vet -v schema/manifest.cue datos/manifest.json"
   ]
  }
 ],
 "metadata": {
  "interpreter": {
   "hash": "31f2aee4e71d21fbe5cf8b01ff0e069b9275f58929596ceb00d14d90e3e16cd6"
  },
  "kernelspec": {
   "display_name": "Python 3.8.10 64-bit",
   "language": "python",
   "name": "python3"
  },
  "language_info": {
   "codemirror_mode": {
    "name": "ipython",
    "version": 3
   },
   "file_extension": ".py",
   "mimetype": "text/x-python",
   "name": "python",
   "nbconvert_exporter": "python",
   "pygments_lexer": "ipython3",
   "version": "3.8.10"
  },
  "orig_nbformat": 4
 },
 "nbformat": 4,
 "nbformat_minor": 2
}
